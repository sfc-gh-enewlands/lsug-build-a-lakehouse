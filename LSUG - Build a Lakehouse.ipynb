{
 "metadata": {
  "kernelspec": {
   "display_name": "Streamlit Notebook",
   "name": "streamlit"
  },
  "lastEditStatus": {
   "notebookId": "kmw6u32fyxm6hgsw3mfp",
   "authorId": "7759475481530",
   "authorName": "ENEWLANDS",
   "authorEmail": "euan.newlands@snowflake.com",
   "sessionId": "cb0d5ebb-63f2-485f-8ed9-0ae4c96e4532",
   "lastEditTime": 1750177586152
  }
 },
 "nbformat_minor": 5,
 "nbformat": 4,
 "cells": [
  {
   "cell_type": "markdown",
   "id": "dbce7c3e-c408-4632-bbd0-5e6fc56a56a2",
   "metadata": {
    "name": "md_intro",
    "collapsed": false
   },
   "source": "# Data Engineering - Demo\n## Build a Lakehouse\n\n- John is a Data Engineer working for.\n- He’s been asked to build a dataset analysts to help them manage their **3 million** customer’s aged debt.\n- John has decided to use a **Lakehouse** pattern as this will give him the most flexibility in the future as all of the RAW data will be in one place."
  },
  {
   "cell_type": "markdown",
   "id": "3a38b3cc-d538-46b3-a4dc-28d942348ec9",
   "metadata": {
    "name": "md_lakehouse_on_sf",
    "collapsed": false
   },
   "source": "### Lakehouse on Snowflake\n✅ Snowflake has infinite **storage capacity** and so will never run out of storage.\n\n✅ All data is stored **COMPRESSED** (by up to 8-9 times) and **ENCRYPTED** by default.\n\n✅ Snowflake can work with structured, semi-structured and unstructured data."
  },
  {
   "cell_type": "markdown",
   "id": "04a64594-7f07-4f80-b461-54e02203d60a",
   "metadata": {
    "name": "md_bronze",
    "collapsed": false
   },
   "source": "🥉🥉🥉🎬 Let's build the **BRONZE** layer which will hold all of the **raw** data as is."
  },
  {
   "cell_type": "code",
   "id": "84396c80-b654-40d4-a0e1-34cb0017e26d",
   "metadata": {
    "language": "sql",
    "name": "sql_set_context",
    "collapsed": true,
    "codeCollapsed": true
   },
   "outputs": [],
   "source": "USE ROLE ACCOUNTADMIN;\nGRANT EXECUTE TASK, EXECUTE MANAGED TASK ON ACCOUNT TO ROLE SYSADMIN;\n\n-- Recreate all the base objects needed.\nuse role SYSADMIN;\n\n-- Database and schemas.\nuse warehouse COMPUTE_WH;\ncreate or replace database ENERGY_RETAILER;\ncreate or replace schema ENERGY_RETAILER.GOLD;\ncreate or replace schema ENERGY_RETAILER.SILVER;\ncreate or replace schema ENERGY_RETAILER.BRONZE;\n\nuse schema ENERGY_RETAILER.BRONZE;\ncreate or replace stage ENERGY_RETAILER.BRONZE.RAW_DATA_STAGING;\n\n\n\n-- Create a Warehouses\ncreate or replace warehouse SYS_DATA_ORCHESTRATION_WH\n    warehouse_size = 'XSMALL'\n    initially_suspended = true\n;\n\ncreate warehouse if not exists COMPUTE_WH\n    warehouse_size = 'XSMALL'\n    initially_suspended = true\n;\n\n\n\n-- Get ready.\nuse role SYSADMIN;\nuse warehouse COMPUTE_WH;\nuse schema ENERGY_RETAILER.BRONZE;",
   "execution_count": null
  },
  {
   "cell_type": "code",
   "id": "57708011-33e7-49e5-a68b-38d2a5bec61c",
   "metadata": {
    "language": "sql",
    "name": "create_bronze_tables"
   },
   "outputs": [],
   "source": "-- Create a table to hold the customer details.\ncreate or replace transient table BRONZE.CUSTOMER(\n    C_CUSTKEY number(38,0) not null,\n    C_NAME varchar(255),\n    C_MPAN varchar(255),\n    C_ADDRESS varchar(255),\n    C_PHONE varchar(255),\n    C_COMMENT varchar(255)\n);\n\n\n\n-- Create a table to hold the charges a customer will incur for electricity.\ncreate or replace transient table BRONZE.CHARGE(\n    CHARGE_JSON_DATA variant\n);\n\n\n\n-- Create a table to hold the payments a customer will make against the charges.\ncreate or replace transient table BRONZE.PAYMENT(\n    PAYMENT_JSON_DATA variant\n);\n\n\n\n-- Create a Stream on the customer table so we can process only what we need to easily.\ncreate or replace stream BRONZE.CUSTOMER_STREAM on table BRONZE.CUSTOMER;",
   "execution_count": null
  },
  {
   "cell_type": "markdown",
   "id": "5707382d-e9a7-4781-92fc-b680a3fdd8f0",
   "metadata": {
    "name": "md_silver",
    "collapsed": false
   },
   "source": "🥈🥈🥈 🎬 Let's build the SILVER layer which will hold all of the **clean data**. This could be used by for example by power users who know what they are looking for."
  },
  {
   "cell_type": "code",
   "id": "eaf61c32-8a39-4ae6-b2c8-7667c0d3a7f6",
   "metadata": {
    "language": "sql",
    "name": "sql_silver_customer_tbl"
   },
   "outputs": [],
   "source": "-- Create a table to hold the clean customer details, this will be populated using\n-- a MERGE INTO statement so we have a \"current view\" of the data as well as a full \n-- history of every change made. We're using this approach in case we need to do\n-- any data cleansing since this is coming from a CRM tool where significant \n-- cleansing may be needed.\ncreate or replace table SILVER.CUSTOMER(\n    C_CUSTKEY number(38,0) not null,\n    C_NAME varchar(255),\n    C_MPAN varchar(255),\n    C_ADDRESS varchar(255),\n    C_PHONE varchar(255),\n    C_COMMENT varchar(255)\n);",
   "execution_count": null
  },
  {
   "cell_type": "code",
   "id": "597d3a27-8a85-4156-8ac3-1fcb522d8563",
   "metadata": {
    "language": "sql",
    "name": "sql_silver_charge_vw"
   },
   "outputs": [],
   "source": "-- For the charges we're taking a slightly different approach, in this case the data\n-- is coming from automated systems so data quality will be good, we may want to add\n-- to it to make it more human readable though, so we can just put a view on top.\n\n-- 💡 Even though the data is in JSON format, Snowflake still gathers metadata to \n--    improve query performance and other functions such as clustering, etc. are\n--    still supported.\ncreate or replace view SILVER.CHARGE as\n    select \n        CHARGE_JSON_DATA:amount::number(30,2) as CH_AMOUNT,\n        CHARGE_JSON_DATA:charge_id::varchar as CH_CHARGE_ID,\n        CHARGE_JSON_DATA:charge_timestamp::timestamp_ntz as CH_TIMESTAMP,\n        CHARGE_JSON_DATA:charge_type::varchar as CH_CHARGE_TYPE,\n        CHARGE_JSON_DATA:cust_id::varchar as CH_CUSTKEY,\n        CHARGE_JSON_DATA:mpan::varchar as CH_MPAN,\n        CHARGE_JSON_DATA:mpid::varchar as CH_MPID,\n        decode( CHARGE_JSON_DATA:mpid, \n            'EELC', 'UK Power Networks - Eastern England',\n            'EMEB', 'National Grid - East Midlands\t',\n            'LOND', 'UK Power Networks - London',\n            'MANW', 'SP Energy Networks - Merseyside and Northern Wales',\n            'MIDE', 'National Grid - West Midlands'\n        ) as CH_MARKET_PARTICIPANT,\n        CHARGE_JSON_DATA as CH_RAW,\n        \n    from BRONZE.CHARGE\n;",
   "execution_count": null
  },
  {
   "cell_type": "code",
   "id": "7d15a929-8ab1-4459-b9e1-ede7c14508b1",
   "metadata": {
    "language": "sql",
    "name": "sql_silver_payments_vw"
   },
   "outputs": [],
   "source": "-- We'll do the same for payments...\n-- 👀 Notice the DECODE function, similar to CASE WHEN, but for equality cases\ncreate or replace view SILVER.PAYMENT as\n    select \n        PAYMENT_JSON_DATA:amount::number(30,2) as P_AMOUNT,\n        PAYMENT_JSON_DATA:cust_id::varchar as P_CUSTKEY,\n        PAYMENT_JSON_DATA:mpan::varchar as P_MPAN,\n        PAYMENT_JSON_DATA:payment_id::varchar as P_PAYMENT_ID,\n        PAYMENT_JSON_DATA:payment_timestamp::timestamp_ntz as P_TIMESTAMP,\n        PAYMENT_JSON_DATA:payment_type::varchar as P_PAYMENT_TYPE,\n        PAYMENT_JSON_DATA:mpid::varchar as P_MPID,\n        decode( PAYMENT_JSON_DATA:mpid, \n            'EELC', 'UK Power Networks - Eastern England',\n            'EMEB', 'National Grid - East Midlands\t',\n            'LOND', 'UK Power Networks - London',\n            'MANW', 'SP Energy Networks - Merseyside and Northern Wales',\n            'MIDE', 'National Grid - West Midlands'\n        ) as P_MARKET_PARTICIPANT,\n        PAYMENT_JSON_DATA as P_RAW,\n        \n    from ENERGY_RETAILER.BRONZE.PAYMENT\n;",
   "execution_count": null
  },
  {
   "cell_type": "markdown",
   "id": "da1f0433-ccbd-42f3-bd87-6974bc088cfa",
   "metadata": {
    "name": "md_gold",
    "collapsed": false
   },
   "source": "🥇🥇🥇🎬 Finally we'll build a **GOLD** layer which will hold business ready data. This means we need to go one step further than simply providing a set of tables and views for Scottish Power's collections team to use.\n\nWe'll use a CTE to create a a **view** which will consolidate all the customer, charges and payments data - maintaining charges and payments in chronological order"
  },
  {
   "cell_type": "code",
   "id": "02dbfec4-f6de-4b0b-a031-537a1d8dc6e9",
   "metadata": {
    "language": "sql",
    "name": "sql_gold_cust_story"
   },
   "outputs": [],
   "source": "-- We'll use a CTE to create a a view which will bring all the customer, charges\n-- and payments data into one chronological place.\ncreate or replace secure view GOLD.CUSTOMER_STORY\n    change_tracking = true\n    as\n    with CUSTOMER_CHARGE as (\n    \n        select \n            CUSTOMER.*,\n            'Charge' as TYPE,\n            CH_CHARGE_TYPE as SUBTYPE,\n            CH_CHARGE_ID as ID,\n            CH_AMOUNT as AMOUNT,\n            CH_TIMESTAMP as EVENT_DATETIME,\n            CH_MPAN as MPAN,\n            CH_MPID as MPID,\n            CH_MARKET_PARTICIPANT as MARKET_PARTICIPANT\n            \n        from SILVER.CUSTOMER\n        inner join SILVER.CHARGE on C_CUSTKEY = CH_CUSTKEY\n        \n    )\n    , CUSTOMER_PAYMENT as (\n    \n        select\n            CUSTOMER.*,\n            'Payment',\n            P_PAYMENT_TYPE,\n            P_PAYMENT_ID,\n            P_AMOUNT,\n            P_TIMESTAMP,\n            P_MPAN,\n            P_MPID,\n            P_MARKET_PARTICIPANT\n            \n        from SILVER.CUSTOMER\n        inner join SILVER.PAYMENT on C_CUSTKEY = P_CUSTKEY\n    \n    )\n    select * from CUSTOMER_CHARGE\n    union all\n    select * from CUSTOMER_PAYMENT\n;\n\n\n-- Create a table \ncreate or replace dynamic table GOLD.ACCT_BALANCES\n    target_lag = '1 minute'\n    warehouse = SYS_DATA_ORCHESTRATION_WH\n    refresh_mode = incremental\n    initialize = on_create\n    as\n    \n    select \n        C_CUSTKEY,\n        C_NAME,\n        MPID,\n        MARKET_PARTICIPANT,\n        sum( AMOUNT ) as ACT_BALANCE\n        \n    from GOLD.CUSTOMER_STORY\n    \n    group by all\n;",
   "execution_count": null
  },
  {
   "cell_type": "markdown",
   "id": "853018e8-2195-4f6c-8a0a-bb25c5d505ee",
   "metadata": {
    "name": "md_halfway_recap",
    "collapsed": false
   },
   "source": "### ⏸️ To recap...\n\n💬 We've just built the data model for our Data Lakehouse.\n\n💡 Everything we've just done manually can be integrated into a CI/CD pipeline and completely automated. Many customer use Terraform, Jenkins, GitLab, GitHub Copilot, Bamboo, Microsoft Azure DevOps and others.\n\n📺 Let's take a look in the Object Browser and see what we've created."
  },
  {
   "cell_type": "markdown",
   "id": "6a1814c8-ac69-4ba2-8a2e-9dcd1b604adf",
   "metadata": {
    "name": "md_load_customer_task",
    "collapsed": false
   },
   "source": "This Task will take the raw data in the 🥉BRONZE🥉 layer and merge it into the data held in the 🥈SILVER🥈 layer. This is a Triggered Task which means it will only run when new data has arrived.\n\n💡 If no data is in the stream, Snowflake skips the run WITHOUT using compute resources.\n\n💡 The lowest time interval Triggered Tasks can be set to run is every 10 seconds."
  },
  {
   "cell_type": "code",
   "id": "c0c72dc5-7036-4ead-86f2-2b247a932a04",
   "metadata": {
    "language": "sql",
    "name": "sql_load_silver_customer"
   },
   "outputs": [],
   "source": "-- UPSERT logic\n\ncreate or replace task CUSTOMER_UPDATE_TASK\n    warehouse = 'SYS_DATA_ORCHESTRATION_WH'\n    user_task_minimum_trigger_interval_in_seconds = 15\n    when\n    system$stream_has_data( 'BRONZE.CUSTOMER_STREAM' )\n    as\n\n    merge into SILVER.CUSTOMER as TGT using (\n    \n        select *\n        from BRONZE.CUSTOMER_STREAM\n        where METADATA$ACTION = 'INSERT'\n    \n    ) as SRC\n    \n        on TGT.C_CUSTKEY = SRC.C_CUSTKEY\n        \n    when matched then update set\n        TGT.C_NAME = SRC.C_NAME,\n        TGT.C_MPAN = SRC.C_MPAN,\n        TGT.C_ADDRESS = SRC.C_ADDRESS,\n        TGT.C_PHONE = SRC.C_PHONE,\n        TGT.C_COMMENT = SRC.C_COMMENT\n        \n    when not matched then insert (\n        C_CUSTKEY,\n        C_NAME,\n        C_MPAN,\n        C_ADDRESS,\n        C_PHONE,\n        C_COMMENT\n        \n    ) values (\n        SRC.C_CUSTKEY,\n        SRC.C_NAME,\n        SRC.C_MPAN,\n        SRC.C_ADDRESS,\n        SRC.C_PHONE,\n        SRC.C_COMMENT\n    )\n;",
   "execution_count": null
  },
  {
   "cell_type": "markdown",
   "id": "6528f4ec-985d-4f28-b090-d8e5c344a744",
   "metadata": {
    "name": "md_this_is_where_the_fun_begins",
    "collapsed": false
   },
   "source": "🎬 Now lets start populating our Lakehouse with data! We'll be cheating a little as I don't have a CRM or energy billing and payment systems handy to integrate with, so we're going to generate the data instead.\n\nThese 2 Tasks will simulate new JSON data arriving in the Stage, ready to be ingested, by generating some JSON files and saving them into a Stage.\n\n💡 There are various ways you can ensure a Task will only run on certain conditions or other Task(s) have completed. We only want this to run after we've got new customer data.\n\n- Load fake data for **CHARGES** to stage (uses `C_CUSTKEY` from CUSTOMER silver table)\n- Load fake data for **PAYMENTS** to stage (uses `C_CUSTKEY` from CUSTOMER silver table)\n- **CUSTOMER** data taken from SNOWFLAKE_SAMPLE_DATE"
  },
  {
   "cell_type": "code",
   "id": "7b808162-f70e-444d-a3b7-7e9b84834614",
   "metadata": {
    "language": "sql",
    "name": "sql_generate_fake_data"
   },
   "outputs": [],
   "source": "create or replace task BRONZE.CHARGE_DATA_GENERATION_TASK\nafter BRONZE.CUSTOMER_UPDATE_TASK\nas\n    copy into @RAW_DATA_STAGING/chg from (\n    \n        select\n            object_construct(\n                'cust_id', C_CUSTKEY,\n                'mpan', C_MPAN,\n                'mpid', decode( uniform( 1, 5, random() ), \n                    1, 'EELC', \n                    2, 'EMEB',\n                    3, 'LOND',\n                    4, 'MANW',\n                    5, 'MIDE'\n                ),\n                'amount', round( uniform( 20.01, 299.99, random() ), 2 ) * -1,\n                'charge_type', decode( uniform( 1, 4, random() ), \n                    1, 'Electricity', \n                    2, 'Electricity',\n                    3, 'Electricity',\n                    4, 'Correction'\n                ),\n                'charge_timestamp', dateadd( day, uniform( 0, 180, random() ) * -1, current_timestamp() ),\n                'charge_id', uniform( 100000000, 999999999, random() )\n            )\n        \n        from SILVER.CUSTOMER sample(75)\n        \n    )\n    overwrite = true\n;\n\n-- Let's take the same approach for Payments, generate the data...\ncreate or replace task BRONZE.PAYMENT_DATA_GENERATION_TASK\nafter BRONZE.CUSTOMER_UPDATE_TASK\nas\n    copy into @RAW_DATA_STAGING/pay from (\n    \n        select\n            object_construct(\n                'amount', round( uniform( 10.01, 150.99, random() ), 2 ),\n                'cust_id', C_CUSTKEY,\n                'mpan', C_MPAN,\n                'mpid', decode( uniform( 1, 5, random() ), \n                    1, 'EELC', \n                    2, 'EMEB',\n                    3, 'LOND',\n                    4, 'MANW',\n                    5, 'MIDE'\n                ),\n                'payment_type', decode( uniform( 1, 2, random() ), \n                    1, 'Direct Debit', \n                    2, 'Credit/Debit Card'\n                ),\n                'payment_timestamp', dateadd( day, uniform( 0, 30, random() ) * -1, current_timestamp() ),\n                'payment_id', uniform( 100000000, 999999999, random() )\n            )\n        \n        from ENERGY_RETAILER.SILVER.CUSTOMER sample(60)\n    \n    )\n    overwrite = true\n;",
   "execution_count": null
  },
  {
   "cell_type": "code",
   "id": "23c64ff1-86d2-4534-9c44-3338fa9509bc",
   "metadata": {
    "language": "sql",
    "name": "sql_create_load_data_tasks"
   },
   "outputs": [],
   "source": "-- Now create tasks to load the data.\ncreate or replace task BRONZE.CHARGE_INGEST_TASK\nafter BRONZE.CHARGE_DATA_GENERATION_TASK\nas\n    copy into BRONZE.CHARGE\n    from @RAW_DATA_STAGING\n    pattern = '.*chg.*'\n;\n\n\n-- Now load it into a table.\ncreate or replace task PAYMENT_INGEST_TASK\nafter BRONZE.PAYMENT_DATA_GENERATION_TASK\nas\n    copy into BRONZE.PAYMENT\n    from @RAW_DATA_STAGING\n    pattern = '.*pay.*'\n;",
   "execution_count": null
  },
  {
   "cell_type": "code",
   "id": "484f8492-afd9-4987-8178-732a61628929",
   "metadata": {
    "language": "sql",
    "name": "sql_start_tasks"
   },
   "outputs": [],
   "source": "-- All we need to do now is kick the Tasks off and we'll be ready to test.\nalter task BRONZE.CHARGE_DATA_GENERATION_TASK resume;\nalter task BRONZE.CHARGE_INGEST_TASK resume;\nalter task BRONZE.PAYMENT_DATA_GENERATION_TASK resume;\nalter task BRONZE.PAYMENT_INGEST_TASK resume;\nalter task BRONZE.CUSTOMER_UPDATE_TASK resume;\n\nshow tasks in database;\n\n-- will be SKIPPED, until customer stream has data",
   "execution_count": null
  },
  {
   "cell_type": "markdown",
   "id": "f8540396-4f71-472f-ba3e-5684829f5a4c",
   "metadata": {
    "name": "md_end2end_test",
    "collapsed": false
   },
   "source": ""
  },
  {
   "cell_type": "code",
   "id": "9d426541-62b3-4191-9e1d-928af8369bfb",
   "metadata": {
    "language": "sql",
    "name": "sql_test1"
   },
   "outputs": [],
   "source": "// 🎬 Now lets do an end-to-end test.\n// --------------------------------------------------------------------------------\n\n\n-- Use COPY to generate sample data to put into the Stage ready to be loaded.\ncopy into @RAW_DATA_STAGING/cust from (\n    select C_CUSTKEY, C_NAME, to_char( uniform( 10000000, 99999999, random() ) ), C_ADDRESS, C_PHONE, C_COMMENT\n    from SNOWFLAKE_SAMPLE_DATA.TPCH_SF10.CUSTOMER\n    sample(25)\n)\noverwrite = true\n;",
   "execution_count": null
  },
  {
   "cell_type": "code",
   "id": "fa99fdd1-5126-4709-912b-5e49dd87ca76",
   "metadata": {
    "language": "sql",
    "name": "sql_test2"
   },
   "outputs": [],
   "source": "-- Load it into our Bronze Customer table (matched on column ordering here)\ncopy into BRONZE.CUSTOMER\nfrom @RAW_DATA_STAGING\npattern = '.*cust.*';",
   "execution_count": null
  },
  {
   "cell_type": "code",
   "id": "c4f0bd97-44da-447c-b33e-4746d7501923",
   "metadata": {
    "language": "sql",
    "name": "count_test"
   },
   "outputs": [],
   "source": "select '0. Bronze CUSTOMER Stream Records' as DESCRIPTION, count(*) as RECORD_COUNT from BRONZE.CUSTOMER_STREAM\nunion all\nselect '1. Bronze CUSTOMER Records' as DESCRIPTION, count(*) as RECORD_COUNT from BRONZE.CUSTOMER\nunion all\nselect '2. Bronze CHARGE Records' as DESCRIPTION, count(*) as RECORD_COUNT from BRONZE.CHARGE\nunion all\nselect '3. Bronze PAYMENT Records' as DESCRIPTION, count(*) as RECORD_COUNT from SILVER.PAYMENT\nunion all\nselect '4. Silver CUSTOMER Records' as DESCRIPTION, count(*) as RECORD_COUNT from SILVER.CUSTOMER\nunion all\nselect '5. Silver CHARGE Records' as DESCRIPTION, count(*) as RECORD_COUNT from SILVER.CHARGE\nunion all\nselect '6. Silver PAYMENT Records' as DESCRIPTION, count(*) as RECORD_COUNT from SILVER.PAYMENT\nunion all\nselect '7. Gold STORY Records' as DESCRIPTION, count(*) as RECORD_COUNT from GOLD.CUSTOMER_STORY\nunion all\nselect '8. Gold ACC_BALANCES Records' as DESCRIPTION, count(*) as RECORD_COUNT from GOLD.ACCT_BALANCES\n\norder by 1 asc\n;",
   "execution_count": null
  },
  {
   "cell_type": "code",
   "id": "808128d9-f1b9-47d4-aae1-85fb9f7ebf94",
   "metadata": {
    "language": "sql",
    "name": "sql_distinct_customers_test"
   },
   "outputs": [],
   "source": "select C_CUSTKEY, count(*)\nfrom BRONZE.CUSTOMER\ngroup by all\norder by 2 desc\n;",
   "execution_count": null
  },
  {
   "cell_type": "code",
   "id": "01e7d84f-bae4-4006-ba9b-314ad2a8b052",
   "metadata": {
    "language": "sql",
    "name": "sql_view_customer_data"
   },
   "outputs": [],
   "source": "-- Structured data in BRONZE.CUSTOMER 🥉\nselect * from BRONZE.CUSTOMER limit 10;",
   "execution_count": null
  },
  {
   "cell_type": "code",
   "id": "82cef7f8-d27c-48b7-a9c3-62df1179d81c",
   "metadata": {
    "language": "sql",
    "name": "sql_view_charge_data"
   },
   "outputs": [],
   "source": "-- Semi-Structured data in BRONZE.CHARGE🥉\nselect * from BRONZE.CHARGE limit 10;",
   "execution_count": null
  },
  {
   "cell_type": "code",
   "id": "6720dbb1-87c6-4bbf-8e44-651f8f84bce5",
   "metadata": {
    "language": "sql",
    "name": "sql_view_silver_charge"
   },
   "outputs": [],
   "source": "-- Flattened Semi-Structured data in SILVER.CHARGE\nselect * from SILVER.CHARGE limit 10;",
   "execution_count": null
  },
  {
   "cell_type": "code",
   "id": "63b8af42-5feb-4326-a469-34edb0df5a67",
   "metadata": {
    "language": "sql",
    "name": "sql_view_gold_customer_story"
   },
   "outputs": [],
   "source": "-- Everything combined into a single view in GOLD.CUSTOMER_STORY\nselect * from GOLD.CUSTOMER_STORY limit 10;",
   "execution_count": null
  },
  {
   "cell_type": "code",
   "id": "f116abb1-9550-4779-a105-254af1c96225",
   "metadata": {
    "language": "sql",
    "name": "sql_view_gold_acct_balances"
   },
   "outputs": [],
   "source": "-- Summarised information in GOLD.ACCT_BALANCES\nselect * from GOLD.ACCT_BALANCES limit 10;",
   "execution_count": null
  },
  {
   "cell_type": "code",
   "id": "284f04d9-76c3-4cf8-bc48-670aaf79b086",
   "metadata": {
    "language": "sql",
    "name": "sql_gold_clustering"
   },
   "outputs": [],
   "source": "-- But importantly, all of Snowflake features, like clustering, still work.\n\n-- Remeber that ACCT_BALANCES was our dyanamic table!\n\nSELECT SYSTEM$CLUSTERING_INFORMATION( 'GOLD.ACCT_BALANCES', '(MPID)' );",
   "execution_count": null
  },
  {
   "cell_type": "markdown",
   "id": "0e28dcf8-5a6b-48bd-9df6-16c82bc375e9",
   "metadata": {
    "name": "md_snowsight_views",
    "collapsed": false
   },
   "source": "📺 But hang on, we've gone through a lot of code, where did the field MPID come from?\nLets take a look in Snowsight to see what we can see:\n\n    ✅ Lineage\n    \n    ✅ AI generated column descriptions\n    \n    ✅ Monitoring Tasks\n    \n    ✅ Monitoring Dynamic Tables"
  },
  {
   "cell_type": "code",
   "id": "f271fd34-ddc4-46f1-8c7b-ed72902d90cc",
   "metadata": {
    "language": "sql",
    "name": "demo_end"
   },
   "outputs": [],
   "source": "-- Demo End\nalter task BRONZE.CUSTOMER_UPDATE_TASK suspend;\nalter task BRONZE.CHARGE_DATA_GENERATION_TASK suspend;\nalter task BRONZE.CHARGE_INGEST_TASK suspend;\nalter task BRONZE.PAYMENT_DATA_GENERATION_TASK suspend;\nalter task BRONZE.PAYMENT_INGEST_TASK suspend;\nalter dynamic table GOLD.ACCT_BALANCES suspend;\n\n-- Drop the objects.\ndrop database ENERGY_RETAILER;",
   "execution_count": null
  }
 ]
}
